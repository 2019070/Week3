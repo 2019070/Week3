{
 "cells": [
  {
   "cell_type": "code",
   "execution_count": 1,
   "id": "df2cd7bf-3d36-419d-a40e-45437808c2d2",
   "metadata": {},
   "outputs": [
    {
     "ename": "ZeroDivisionError",
     "evalue": "division by zero",
     "output_type": "error",
     "traceback": [
      "\u001b[0;31m---------------------------------------------------------------------------\u001b[0m",
      "\u001b[0;31mZeroDivisionError\u001b[0m                         Traceback (most recent call last)",
      "Cell \u001b[0;32mIn[1], line 1\u001b[0m\n\u001b[0;32m----> 1\u001b[0m \u001b[38;5;241m10\u001b[39m\u001b[38;5;241m/\u001b[39m\u001b[38;5;241m0\u001b[39m\n",
      "\u001b[0;31mZeroDivisionError\u001b[0m: division by zero"
     ]
    }
   ],
   "source": [
    "10/0"
   ]
  },
  {
   "cell_type": "code",
   "execution_count": 5,
   "id": "35f407d1-a615-476d-865e-bca9d8064b24",
   "metadata": {},
   "outputs": [
    {
     "name": "stdout",
     "output_type": "stream",
     "text": [
      "I guess the mathematicians were right about this\n",
      "5\n"
     ]
    }
   ],
   "source": [
    "number = 0\n",
    "try:\n",
    "    number = 5\n",
    "    10/0\n",
    "    print(\"Yay, it works! I just divided by zero\")\n",
    "except:\n",
    "    print(\"I guess the mathematicians were right about this\")\n",
    "print(number)"
   ]
  },
  {
   "cell_type": "code",
   "execution_count": 15,
   "id": "10d4beb8-ee39-49a0-8f0c-893fc06af756",
   "metadata": {},
   "outputs": [
    {
     "name": "stdin",
     "output_type": "stream",
     "text": [
      "What is your favourite number? yy\n"
     ]
    },
    {
     "name": "stdout",
     "output_type": "stream",
     "text": [
      "print input an actual number!\n"
     ]
    }
   ],
   "source": [
    "try:\n",
    "    number = float(input(\"What is your favourite number?\"))\n",
    "    print(f\"your favourite number is {number}\")\n",
    "except:\n",
    "    print(\"print input an actual number!\")"
   ]
  },
  {
   "cell_type": "code",
   "execution_count": null,
   "id": "d645de1e-9e04-4db7-b94c-27bbf53c41bf",
   "metadata": {},
   "outputs": [],
   "source": []
  }
 ],
 "metadata": {
  "kernelspec": {
   "display_name": "Python [conda env:base] *",
   "language": "python",
   "name": "conda-base-py"
  },
  "language_info": {
   "codemirror_mode": {
    "name": "ipython",
    "version": 3
   },
   "file_extension": ".py",
   "mimetype": "text/x-python",
   "name": "python",
   "nbconvert_exporter": "python",
   "pygments_lexer": "ipython3",
   "version": "3.12.2"
  }
 },
 "nbformat": 4,
 "nbformat_minor": 5
}
