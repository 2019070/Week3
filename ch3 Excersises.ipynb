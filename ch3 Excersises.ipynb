{
 "cells": [
  {
   "cell_type": "markdown",
   "id": "88271f1b-e27a-4419-9a7f-3369d6138874",
   "metadata": {},
   "source": [
    "# Git terminology\n",
    "\n",
    "- Git - on your own computer\n",
    "- GitHub - in the internet (cloud)\n",
    "- commit - save\n",
    "- publish - make the repository available on github\n",
    "- push send changes to github\n",
    "- fetch check for newer updates from github\n",
    "- pull get the updates from github"
   ]
  },
  {
   "cell_type": "markdown",
   "id": "3dc14d6f-07cb-4f5e-b9df-b4e2dceddbd1",
   "metadata": {},
   "source": [
    "### question 3"
   ]
  },
  {
   "cell_type": "markdown",
   "id": "f7b2a066-b048-4b63-a8ad-c5359295be79",
   "metadata": {},
   "source": [
    "Exercise 3: Write a program to prompt for a score between 0.0 and 1.0. If the score is out of range, print an error message. If the score is between 0.0 and 1.0, print a grade using the following table:\n",
    "\n"
   ]
  },
  {
   "cell_type": "code",
   "execution_count": 31,
   "id": "ae2612be-1744-4e3a-8558-75083a7db636",
   "metadata": {},
   "outputs": [
    {
     "name": "stdin",
     "output_type": "stream",
     "text": [
      "what is your score?\n",
      " 0.5\n"
     ]
    },
    {
     "name": "stdout",
     "output_type": "stream",
     "text": [
      "F\n"
     ]
    }
   ],
   "source": [
    "score = float(input(\"what is your score?\\n\"))\n",
    "if score > 1 or score < 0:\n",
    "    print(\"sorry, that score is out of range\")\n",
    "else:\n",
    "    if score >= 0.9:\n",
    "        print(\"A\")\n",
    "    elif score >= 0.8:\n",
    "        print(\"B\")\n",
    "    elif score >= 0.7:\n",
    "        print(\"C\")\n",
    "    elif score >= 0.6:\n",
    "        print(\"W\")\n",
    "    else: \n",
    "        print(\"F\")\n",
    "    "
   ]
  },
  {
   "cell_type": "code",
   "execution_count": null,
   "id": "ef55d83b-98be-4c0a-bfd9-6775fdd5b2a3",
   "metadata": {},
   "outputs": [],
   "source": []
  }
 ],
 "metadata": {
  "kernelspec": {
   "display_name": "Python [conda env:base] *",
   "language": "python",
   "name": "conda-base-py"
  },
  "language_info": {
   "codemirror_mode": {
    "name": "ipython",
    "version": 3
   },
   "file_extension": ".py",
   "mimetype": "text/x-python",
   "name": "python",
   "nbconvert_exporter": "python",
   "pygments_lexer": "ipython3",
   "version": "3.12.2"
  }
 },
 "nbformat": 4,
 "nbformat_minor": 5
}
