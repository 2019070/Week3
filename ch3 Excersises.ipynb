{
 "cells": [
  {
   "cell_type": "markdown",
   "id": "88271f1b-e27a-4419-9a7f-3369d6138874",
   "metadata": {},
   "source": [
    "# Git terminology\n",
    "\n",
    "- Git - on your own computer\n",
    "- GitHub - in the internet (cloud)\n",
    "- commit - save\n",
    "- publish - make the repository available on github\n",
    "- push send changes to github\n",
    "- fetch check for newer updates from github\n",
    "- pull get the updates from github"
   ]
  },
  {
   "cell_type": "code",
   "execution_count": null,
   "id": "2c01e742-2f77-400c-a6a8-5daf5add5c84",
   "metadata": {},
   "outputs": [],
   "source": []
  }
 ],
 "metadata": {
  "kernelspec": {
   "display_name": "Python [conda env:base] *",
   "language": "python",
   "name": "conda-base-py"
  },
  "language_info": {
   "codemirror_mode": {
    "name": "ipython",
    "version": 3
   },
   "file_extension": ".py",
   "mimetype": "text/x-python",
   "name": "python",
   "nbconvert_exporter": "python",
   "pygments_lexer": "ipython3",
   "version": "3.12.2"
  }
 },
 "nbformat": 4,
 "nbformat_minor": 5
}
